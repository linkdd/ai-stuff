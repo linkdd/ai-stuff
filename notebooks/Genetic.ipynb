{
 "cells": [
  {
   "cell_type": "code",
   "execution_count": 357,
   "metadata": {
    "collapsed": true,
    "slideshow": {
     "slide_type": "-"
    }
   },
   "outputs": [],
   "source": [
    "%matplotlib inline\n",
    "\n",
    "import matplotlib\n",
    "import numpy as np\n",
    "import matplotlib.pyplot as plt\n",
    "import json"
   ]
  },
  {
   "cell_type": "markdown",
   "metadata": {},
   "source": [
    "# Genetic approach to artificial intelligence in gaming"
   ]
  },
  {
   "cell_type": "markdown",
   "metadata": {},
   "source": [
    "## Introduction\n",
    "\n",
    "In this training, I want to focus on the algorithm and not on its performance, this will be for a later study-case.\n",
    "\n",
    "Artificial intelligence has always been present in games, so the player can play even alone.\n",
    "Finding some complex problems to solve shouldn't be a hard task.\n",
    "\n",
    "Let's take a real game and try to make an artificial intelligence which solves the game.\n",
    "I choosed a french TV game \"Le compte est bon\". Let's explains the rules:\n",
    "\n",
    " * a goal number is randomly choosen between 100 and 999\n",
    " * 6 numbers are randomly choosen from the set : ``[1, 1, 2, 2, 3, 3, 4, 4, 5, 5, 6, 6, 7, 7, 8, 8, 9, 9, 10, 10, 25, 50, 75, 100]``\n",
    " * with only the basic integer operations ``+ - * /`` and the 6 numbers, you have to find the goal number\n",
    " * each of the 6 numbers can only be used once"
   ]
  },
  {
   "cell_type": "markdown",
   "metadata": {},
   "source": [
    "## Example\n",
    "\n",
    " * goal number: ``247``\n",
    " * set : ``[3, 5, 7, 100, 25, 1]``\n",
    " * solution :\n",
    "\n",
    "```\n",
    "3 * 7 = 21\n",
    "5 * 25 = 125\n",
    "125 + 21 = 146\n",
    "146 + 100 = 246\n",
    "246 + 1 = 247\n",
    "```\n",
    " \n",
    "We can represent the whole calcul in one line : ``(3 * 7) + (5 * 25) + 100 + 1``\n",
    "\n",
    "Which can also be represented as a tree :\n",
    "\n",
    "```\n",
    "  +\n",
    " / \\\n",
    "1   +\n",
    "   / \\\n",
    " 100  +\n",
    "     / \\\n",
    "    /   \\\n",
    "   *     *\n",
    "  / \\   / \\\n",
    " 3  7   5  25\n",
    "```"
   ]
  },
  {
   "cell_type": "markdown",
   "metadata": {},
   "source": [
    "## Where genetics can help us\n",
    "\n",
    "\n",
    "### About genetic programming\n",
    "\n",
    "Genetic programming consists on applying the rules of genetic evolution to our algorithm.\n",
    "\n",
    "On a random population, we determine which candidate solves the problem the best.\n",
    "This step is called **evaluation**.\n",
    "\n",
    "The next step is to select the candidates that will be the parents of the next generation. This step is called **selection**.\n",
    "\n",
    "We select random parts of both parents DNA to build a new one, and then apply a random mutation so the new candidate is unique.\n",
    "\n",
    "We repeat this process until we have a new population to evaluate.\n",
    "\n",
    "The most important part is in the *selection* step. Once we scored each candidate in the *evaluation* step we obviously must select the bests to make sure the next generation is closer to the answer.\n",
    "\n",
    "But building an elite will prevents DNA diversity and the population could never find the solution.\n",
    "\n",
    "It is important also to include less good candidate, as they can carry intersting genes to pass.\n",
    "\n",
    "### Example\n",
    "\n",
    "Lets say we have randomly generated a set of tree :\n",
    "\n",
    "\n",
    "```\n",
    "  *              *           \n",
    " / \\            / \\          \n",
    "1   -          7   +         \n",
    "   / \\            / \\        \n",
    " 100  +         100  +       \n",
    "     / \\            / \\      \n",
    "    /   \\          /   \\     \n",
    "   +     /        -     /    \n",
    "  / \\   / \\      / \\   / \\   \n",
    " 3  7  25  5    3  25 5   1  \n",
    "```\n",
    "\n",
    "Those tree could represent the DNA of our population. Genes would be each operators and links to the leafs.\n",
    "\n",
    "We can easily select part of each tree to insert into a new one as in *DNA combination*.\n",
    "Then randomly change an operator or switch leafs as in *random mutation*.\n",
    "\n",
    "Evaluation would consist on parsing the tree, and get the distance to the goal number : ``abs(goal - tree_result)``."
   ]
  },
  {
   "cell_type": "markdown",
   "metadata": {},
   "source": [
    "## The first generation\n",
    "\n",
    "First, we need to generate the game :"
   ]
  },
  {
   "cell_type": "code",
   "execution_count": 358,
   "metadata": {
    "collapsed": false
   },
   "outputs": [
    {
     "name": "stdout",
     "output_type": "stream",
     "text": [
      "884 : [25, 7, 9, 10, 2, 1]\n"
     ]
    }
   ],
   "source": [
    "import random\n",
    "\n",
    "elements = list(range(1, 11)) * 2 + [25, 50, 75, 100]\n",
    "game = random.sample(elements, 6)\n",
    "goal = random.randint(100, 999)\n",
    "\n",
    "print goal, ':', game"
   ]
  },
  {
   "cell_type": "markdown",
   "metadata": {},
   "source": [
    "Now, we need to generate our population, this means for each candidate we will generate random DNA :"
   ]
  },
  {
   "cell_type": "code",
   "execution_count": 359,
   "metadata": {
    "collapsed": false
   },
   "outputs": [],
   "source": [
    "# the DNA is just the calcul in a string\n",
    "def random_dna(game):\n",
    "    # we want random links to node, so we need to shuffle the game\n",
    "    game_shuffled = list(game)\n",
    "    random.shuffle(game_shuffled)\n",
    "    \n",
    "    # let start with an empty dna\n",
    "    dna = ''\n",
    "\n",
    "    i = 0\n",
    "    while i < len(game_shuffled):\n",
    "        try_dna = dna\n",
    "\n",
    "        if i > 0:\n",
    "            try_dna += random.choice([' * ', ' / ', ' + ', ' - '])\n",
    "        \n",
    "        try_dna += str(float(game_shuffled[i]))\n",
    "        \n",
    "        # we check that the result is still an int before recording the random gene\n",
    "        check_result = eval(try_dna)\n",
    "\n",
    "        if check_result == int(check_result):\n",
    "            dna = try_dna\n",
    "            i += 1\n",
    "    \n",
    "    return dna\n",
    "    \n",
    "test_dna = random_dna(game)\n",
    "test_res = eval(test_dna)\n",
    "\n",
    "assert test_res == int(test_res)\n",
    "\n",
    "population_size = 1000\n",
    "population = [random_dna(game) for _ in range(population_size)]"
   ]
  },
  {
   "cell_type": "code",
   "execution_count": 360,
   "metadata": {
    "collapsed": false
   },
   "outputs": [
    {
     "name": "stdout",
     "output_type": "stream",
     "text": [
      "Test: 7.0 - 1.0 * 9.0 - 2.0 * 25.0 / 10.0 = -7.0\n",
      "Population Size: 1000\n",
      "Population:\n",
      "-> 1.0 * 9.0 - 25.0 * 2.0 * 7.0 + 10.0  =  -331.0\n",
      "-> 7.0 - 1.0 - 9.0 * 2.0 * 25.0 - 10.0  =  -454.0\n",
      "-> 7.0 + 25.0 - 2.0 + 10.0 * 9.0 + 1.0  =  121.0\n",
      "-> 25.0 - 7.0 * 1.0 * 9.0 + 2.0 - 10.0  =  -46.0\n",
      "-> 9.0 + 1.0 - 7.0 * 2.0 - 10.0 * 25.0  =  -254.0\n",
      "-> ...\n",
      "-> 25.0 * 7.0 * 9.0 + 10.0 + 1.0 - 2.0  =  1584.0\n",
      "-> 10.0 - 25.0 + 7.0 * 2.0 - 1.0 + 9.0  =  7.0\n",
      "-> 2.0 - 1.0 + 25.0 * 7.0 + 10.0 + 9.0  =  195.0\n",
      "-> 9.0 / 1.0 + 25.0 * 2.0 * 10.0 + 7.0  =  516.0\n",
      "-> 1.0 + 2.0 - 9.0 - 7.0 - 10.0 * 25.0  =  -263.0\n"
     ]
    }
   ],
   "source": [
    "print 'Test:', test_dna, '=', test_res\n",
    "print 'Population Size:', population_size\n",
    "print 'Population:'\n",
    "\n",
    "for dna in population[:5]:\n",
    "    print '->', dna, ' = ', eval(dna)\n",
    "\n",
    "print '-> ...'\n",
    "\n",
    "\n",
    "for dna in population[-5:]:\n",
    "    print '->', dna, ' = ', eval(dna)"
   ]
  },
  {
   "cell_type": "markdown",
   "metadata": {},
   "source": [
    "Now, we would like to score our population :"
   ]
  },
  {
   "cell_type": "code",
   "execution_count": 361,
   "metadata": {
    "collapsed": true
   },
   "outputs": [],
   "source": [
    "def score(dna):\n",
    "    return abs(goal - eval(dna))\n",
    "\n",
    "scored_population = sorted([(dna, score(dna)) for dna in population], key=lambda item: item[1])"
   ]
  },
  {
   "cell_type": "code",
   "execution_count": 362,
   "metadata": {
    "collapsed": false
   },
   "outputs": [
    {
     "name": "stdout",
     "output_type": "stream",
     "text": [
      "-> 10.0 / 1.0 / 2.0 * 7.0 * 25.0 + 9.0  =  884.0 \t| 0.0\n",
      "-> 7.0 * 10.0 / 2.0 / 1.0 * 25.0 - 9.0  =  866.0 \t| 18.0\n",
      "-> 9.0 * 1.0 * 7.0 * 10.0 + 2.0 * 25.0  =  680.0 \t| 204.0\n",
      "-> 10.0 * 1.0 * 7.0 * 9.0 + 2.0 + 25.0  =  657.0 \t| 227.0\n",
      "-> 25.0 + 10.0 * 9.0 * 7.0 + 2.0 * 1.0  =  657.0 \t| 227.0\n",
      "-> ...\n",
      "-> 9.0 * 7.0 * 1.0 * 10.0 * 25.0 * 2.0  =  31500.0 \t| 30616.0\n",
      "-> 2.0 / 1.0 * 10.0 * 9.0 * 7.0 * 25.0  =  31500.0 \t| 30616.0\n",
      "-> 2.0 * 10.0 * 25.0 * 9.0 * 1.0 * 7.0  =  31500.0 \t| 30616.0\n",
      "-> 9.0 * 1.0 * 7.0 * 10.0 * 2.0 * 25.0  =  31500.0 \t| 30616.0\n",
      "-> 9.0 * 7.0 * 25.0 * 10.0 * 2.0 + 1.0  =  31501.0 \t| 30617.0\n"
     ]
    }
   ],
   "source": [
    "def show_scored_population(scored_population):\n",
    "    for dna, score in scored_population[:5]:\n",
    "        print '->', dna, ' = ', eval(dna), '\\t|', score\n",
    "\n",
    "    print '-> ...'\n",
    "\n",
    "    for dna, score in scored_population[-5:]:\n",
    "        print '->', dna, ' = ', eval(dna), '\\t|', score\n",
    "\n",
    "show_scored_population(scored_population)"
   ]
  },
  {
   "cell_type": "markdown",
   "metadata": {},
   "source": [
    "If we are lucky, we have found the solution on the first generation. But it is unlikely on more complex problems.\n",
    "\n",
    "For the fun lets make some stats of the generation:"
   ]
  },
  {
   "cell_type": "code",
   "execution_count": 363,
   "metadata": {
    "collapsed": false
   },
   "outputs": [],
   "source": [
    "from collections import OrderedDict\n",
    "import math\n",
    "\n",
    "\n",
    "def generation_stats(generation):\n",
    "    scores = [c[1] for c in generation]\n",
    "    \n",
    "    stats = OrderedDict((\n",
    "        ('avg', float(sum(scores)) / len(scores)),\n",
    "        ('min', min(scores)),\n",
    "        ('max', max(scores)),\n",
    "        ('stdev', None),\n",
    "        ('q1', None),\n",
    "        ('med', None),\n",
    "        ('q3', None)\n",
    "    ))\n",
    "    \n",
    "    variance = float(sum([(s - stats['avg'])**2 for s in scores])) / len(scores)\n",
    "    stats['stdev'] = math.sqrt(variance)\n",
    "    \n",
    "    q1idx = len(scores) / 4\n",
    "    stats['q1'] = scores[q1idx]\n",
    "    \n",
    "    q3idx = 3 * len(scores) / 4\n",
    "    stats['q3'] = scores[q3idx]\n",
    "    \n",
    "    if len(scores) % 2 == 0:\n",
    "        i1idx = len(scores) / 2\n",
    "        i2idx = i1idx + 1\n",
    "        \n",
    "        i1, i2 = scores[i1idx], scores[i2idx]\n",
    "        stats['med'] = (i1 + i2) / 2\n",
    "    \n",
    "    else:\n",
    "        medidx = len(scores) / 2 + 1\n",
    "        stats['med'] = scores[medidx]\n",
    "\n",
    "    return stats, scores"
   ]
  },
  {
   "cell_type": "code",
   "execution_count": 364,
   "metadata": {
    "collapsed": false
   },
   "outputs": [],
   "source": [
    "def plot_stats(stats, scores):\n",
    "    rows = zip(*stats.items())\n",
    "    dim = [0.05, 0.80, 0.9, 0.15]\n",
    "\n",
    "    # Figure 1: min avg/q3 max color graph\n",
    "    fig1 = plt.figure(figsize=(18, 3))\n",
    "    a1x = fig1.add_axes(dim)\n",
    "\n",
    "    cmap1 = matplotlib.colors.ListedColormap(['g', 'b', 'r'])\n",
    "    bounds1 = [\n",
    "        stats['min'],\n",
    "        min(stats['q3'], stats['avg']),\n",
    "        max(stats['q3'], stats['avg']),\n",
    "        stats['max']\n",
    "    ]\n",
    "    norm1 = matplotlib.colors.BoundaryNorm(bounds1, cmap1.N)\n",
    "    cbl1 = matplotlib.colorbar.ColorbarBase(\n",
    "        a1x,\n",
    "        cmap=cmap1, norm=norm1,\n",
    "        spacing='proportional',\n",
    "        orientation='horizontal'\n",
    "    )\n",
    "\n",
    "    # Figure 2: min q1 med q3 color graph\n",
    "    fig2 = plt.figure(figsize=(18, 3))\n",
    "    a2x = fig2.add_axes(dim)\n",
    "\n",
    "    cmap2 = matplotlib.colors.ListedColormap(['g', 'b', 'y'])\n",
    "    bounds2 = [stats['min'], stats['q1'], stats['med'], stats['q3']]\n",
    "    norm2 = matplotlib.colors.BoundaryNorm(bounds2, cmap2.N)\n",
    "    cbl2 = matplotlib.colorbar.ColorbarBase(\n",
    "        a2x,\n",
    "        cmap=cmap2, norm=norm2,\n",
    "        spacing='proportional',\n",
    "        orientation='horizontal'\n",
    "    )\n",
    "\n",
    "    a1x.set_xticklabels([\n",
    "        'min',\n",
    "        'avg' if stats['avg'] <= stats['q3'] else 'q3',\n",
    "        'avg' if stats['avg'] > stats['q3'] else 'q3',\n",
    "        'max'\n",
    "    ])\n",
    "    a2x.set_xticklabels(['min', 'q1', 'med', 'q3', 'max'])\n",
    "\n",
    "    # Figure 3: scores line chart\n",
    "    fig3, a3x = plt.subplots()\n",
    "    a3x.plot(scores)\n",
    "    a3x.grid(True)\n",
    "    a3x.set_ylabel('Score')\n",
    "    a3x.set_xlabel('Candidate')\n",
    "\n",
    "    plt.show()"
   ]
  },
  {
   "cell_type": "code",
   "execution_count": 365,
   "metadata": {
    "collapsed": false
   },
   "outputs": [
    {
     "name": "stdout",
     "output_type": "stream",
     "text": [
      "{\n",
      "  \"avg\": 1278.804, \n",
      "  \"min\": 0.0, \n",
      "  \"max\": 30617.0, \n",
      "  \"stdev\": 2912.956906578606, \n",
      "  \"q1\": 774.0, \n",
      "  \"med\": 855.0, \n",
      "  \"q3\": 922.0\n",
      "}\n"
     ]
    },
    {
     "data": {
      "image/png": "[encoded data removed]",
      "text/plain": [
       "<matplotlib.figure.Figure at 0x3db0c90>"
      ]
     },
     "metadata": {},
     "output_type": "display_data"
    },
    {
     "data": {
      "image/png": "[encoded data removed]",
      "text/plain": [
       "<matplotlib.figure.Figure at 0x3a22510>"
      ]
     },
     "metadata": {},
     "output_type": "display_data"
    },
    {
     "data": {
      "image/png": "[encoded data removed]",
      "text/plain": [
       "<matplotlib.figure.Figure at 0x7ff6388b75d0>"
      ]
     },
     "metadata": {},
     "output_type": "display_data"
    }
   ],
   "source": [
    "stats1, scores1 = generation_stats(scored_population)\n",
    "print json.dumps(stats1, indent=2)\n",
    "plot_stats(stats1, scores1)"
   ]
  },
  {
   "cell_type": "markdown",
   "metadata": {},
   "source": [
    "Now that we have our first generation and we know what it looks like, we can proceed to selection."
   ]
  },
  {
   "cell_type": "markdown",
   "metadata": {},
   "source": [
    "## Selection implementation\n",
    "\n",
    "If we just generate a new random population, our algorithm would be nothing else than a bruteforce.\n",
    "\n",
    "The selection step makes everything. So how do we proceed ?\n",
    "\n",
    "After a few runs, it looks like the distance from the goal grows slowly except a very few number of with an enormous distance due to random.\n",
    "\n",
    "This is good! This means we have a lot of interesting solutions.\n",
    "Let's try the following approach for selection : the 50% best candidates of each quartile in this generation."
   ]
  },
  {
   "cell_type": "code",
   "execution_count": 366,
   "metadata": {
    "collapsed": false
   },
   "outputs": [],
   "source": [
    "def selection(generation, stats):\n",
    "    parents = []\n",
    "    \n",
    "    q1 = filter(lambda c: c[1] < stats['q1'], generation)\n",
    "    q2 = filter(lambda c: stats['q1'] <= c[1] < stats['med'], generation)\n",
    "    q3 = filter(lambda c: stats['med'] <= c[1] < stats['q3'], generation)\n",
    "    q4 = filter(lambda c: stats['q3'] <= c[1], generation)\n",
    "    \n",
    "    for q in [q1, q2, q3, q4]:\n",
    "        parents += q[:len(q) / 2]\n",
    "    \n",
    "    return parents"
   ]
  },
  {
   "cell_type": "code",
   "execution_count": 367,
   "metadata": {
    "collapsed": false
   },
   "outputs": [
    {
     "name": "stdout",
     "output_type": "stream",
     "text": [
      "-> 10.0 / 1.0 / 2.0 * 7.0 * 25.0 + 9.0  =  884.0 \t| 0.0\n",
      "-> 7.0 * 10.0 / 2.0 / 1.0 * 25.0 - 9.0  =  866.0 \t| 18.0\n",
      "-> 9.0 * 1.0 * 7.0 * 10.0 + 2.0 * 25.0  =  680.0 \t| 204.0\n",
      "-> 10.0 * 1.0 * 7.0 * 9.0 + 2.0 + 25.0  =  657.0 \t| 227.0\n",
      "-> 25.0 + 10.0 * 9.0 * 7.0 + 2.0 * 1.0  =  657.0 \t| 227.0\n",
      "-> ...\n",
      "-> 2.0 * 7.0 + 9.0 - 10.0 * 25.0 + 1.0  =  -226.0 \t| 1110.0\n",
      "-> 7.0 * 2.0 * 1.0 - 25.0 * 10.0 + 9.0  =  -227.0 \t| 1111.0\n",
      "-> 1.0 * 10.0 - 2.0 * 7.0 - 9.0 * 25.0  =  -229.0 \t| 1113.0\n",
      "-> 7.0 - 1.0 * 2.0 - 10.0 - 25.0 * 9.0  =  -230.0 \t| 1114.0\n",
      "-> 7.0 - 10.0 * 25.0 + 9.0 + 2.0 * 1.0  =  -232.0 \t| 1116.0\n"
     ]
    }
   ],
   "source": [
    "s1 = selection(scored_population, stats1)\n",
    "show_scored_population(s1)"
   ]
  },
  {
   "cell_type": "code",
   "execution_count": 368,
   "metadata": {
    "collapsed": false,
    "slideshow": {
     "slide_type": "-"
    }
   },
   "outputs": [
    {
     "name": "stdout",
     "output_type": "stream",
     "text": [
      "{\n",
      "  \"avg\": 801.406, \n",
      "  \"min\": 0.0, \n",
      "  \"max\": 1116.0, \n",
      "  \"stdev\": 193.5058892230416, \n",
      "  \"q1\": 774.0, \n",
      "  \"med\": 855.0, \n",
      "  \"q3\": 922.0\n",
      "}\n"
     ]
    },
    {
     "data": {
      "image/png": "[encoded data removed]",
      "text/plain": [
       "<matplotlib.figure.Figure at 0x3d59b10>"
      ]
     },
     "metadata": {},
     "output_type": "display_data"
    },
    {
     "data": {
      "image/png": "[encoded data removed]",
      "text/plain": [
       "<matplotlib.figure.Figure at 0x3547110>"
      ]
     },
     "metadata": {},
     "output_type": "display_data"
    },
    {
     "data": {
      "image/png": "[encoded data removed]",
      "text/plain": [
       "<matplotlib.figure.Figure at 0x4494850>"
      ]
     },
     "metadata": {},
     "output_type": "display_data"
    }
   ],
   "source": [
    "stats_s1, scores_s1 = generation_stats(s1)\n",
    "print json.dumps(stats_s1, indent=2)\n",
    "plot_stats(stats_s1, scores_s1)"
   ]
  },
  {
   "cell_type": "markdown",
   "metadata": {},
   "source": [
    "## Combination and mutation, creating the next generation\n",
    "\n",
    "In this part, we will parse the DNA code of each candidates of ``s1`` in order to build the tree.\n",
    "\n",
    "Because it is a simple calcul, it is also a valid Python code. We could use the library [RedBaron](https://redbaron.readthedocs.org/en/latest/), lets import it:"
   ]
  },
  {
   "cell_type": "code",
   "execution_count": 369,
   "metadata": {
    "collapsed": false
   },
   "outputs": [
    {
     "name": "stdout",
     "output_type": "stream",
     "text": [
      "Example: 10.0 / 1.0 / 2.0 * 7.0 * 25.0 + 9.0\n",
      "0 -----------------------------------------------------\n",
      "\u001b[38;5;148mBinaryOperatorNode\u001b[39m\u001b[38;5;197m(\u001b[39m\u001b[38;5;197m)\u001b[39m\n",
      "\u001b[38;5;15m  \u001b[39m\u001b[38;5;242m# identifiers: binary_operator, binary_operator_, binaryoperator, binaryoperatornode\u001b[39m\n",
      "\u001b[38;5;15m  \u001b[39m\u001b[38;5;15mvalue\u001b[39m\u001b[38;5;197m=\u001b[39m\u001b[38;5;186m'+'\u001b[39m\n",
      "\u001b[38;5;15m  \u001b[39m\u001b[38;5;15mfirst\u001b[39m\u001b[38;5;15m \u001b[39m\u001b[38;5;197m->\u001b[39m\n",
      "\u001b[38;5;15m    \u001b[39m\u001b[38;5;148mBinaryOperatorNode\u001b[39m\u001b[38;5;197m(\u001b[39m\u001b[38;5;197m)\u001b[39m\n",
      "\u001b[38;5;15m      \u001b[39m\u001b[38;5;242m# identifiers: binary_operator, binary_operator_, binaryoperator, binaryoperatornode\u001b[39m\n",
      "\u001b[38;5;15m      \u001b[39m\u001b[38;5;15mvalue\u001b[39m\u001b[38;5;197m=\u001b[39m\u001b[38;5;186m'/'\u001b[39m\n",
      "\u001b[38;5;15m      \u001b[39m\u001b[38;5;15mfirst\u001b[39m\u001b[38;5;15m \u001b[39m\u001b[38;5;197m->\u001b[39m\n",
      "\u001b[38;5;15m        \u001b[39m\u001b[38;5;148mFloatNode\u001b[39m\u001b[38;5;197m(\u001b[39m\u001b[38;5;197m)\u001b[39m\u001b[38;5;15m \u001b[39m\u001b[38;5;197m...\u001b[39m\n",
      "\u001b[38;5;15m      \u001b[39m\u001b[38;5;15msecond\u001b[39m\u001b[38;5;15m \u001b[39m\u001b[38;5;197m->\u001b[39m\n",
      "\u001b[38;5;15m        \u001b[39m\u001b[38;5;148mBinaryOperatorNode\u001b[39m\u001b[38;5;197m(\u001b[39m\u001b[38;5;197m)\u001b[39m\u001b[38;5;15m \u001b[39m\u001b[38;5;197m...\u001b[39m\n",
      "\u001b[38;5;15m  \u001b[39m\u001b[38;5;15msecond\u001b[39m\u001b[38;5;15m \u001b[39m\u001b[38;5;197m->\u001b[39m\n",
      "\u001b[38;5;15m    \u001b[39m\u001b[38;5;148mFloatNode\u001b[39m\u001b[38;5;197m(\u001b[39m\u001b[38;5;197m)\u001b[39m\n",
      "\u001b[38;5;15m      \u001b[39m\u001b[38;5;242m# identifiers: float, float_, floatnode\u001b[39m\n",
      "\u001b[38;5;15m      \u001b[39m\u001b[38;5;15mvalue\u001b[39m\u001b[38;5;197m=\u001b[39m\u001b[38;5;186m'9.0'\u001b[39m\n"
     ]
    }
   ],
   "source": [
    "from redbaron import RedBaron, BinaryOperatorNode, FloatNode\n",
    "\n",
    "red = RedBaron(s1[0][0])\n",
    "\n",
    "print 'Example:', s1[0][0]\n",
    "red.help()"
   ]
  },
  {
   "cell_type": "markdown",
   "metadata": {},
   "source": [
    "Now we need to parse a pair of candidates, in order to return a new one. How do we proceed ?\n",
    "\n",
    "I suggest that :\n",
    "\n",
    " * we copy parent ``b``'s DNA into child ``c``\n",
    " * then we choose randomly a ``BinaryOperatorNode`` in parent ``a``'s DNA and find all ``FloatNode()`` it contains\n",
    " * each of thoose nodes are deleted from ``c``'s DNA, as well as the useless operators\n",
    " * we insert the choosen ``BinaryOperatorNode`` into ``c``'s DNA with a new randomly choosen ``BinaryOperatorNode``\n",
    " \n",
    " Example :\n",
    " \n",
    " \n",
    "\n",
    "**Step 1:**\n",
    "\n",
    "```\n",
    "  *              *           \n",
    " / \\            / \\          \n",
    "1   -          7   +         \n",
    "   / \\            / \\        \n",
    " 100 (+)        100  +       \n",
    "     / \\            / \\      \n",
    "    /   \\          /   \\     \n",
    "   +     /        -     /    \n",
    "  / \\   / \\      / \\   / \\   \n",
    " 3  7  25  5    3  25 5   1  \n",
    "```\n",
    "\n",
    "\n",
    "**Step 2:**\n",
    "\n",
    "```\n",
    "  *              *           \n",
    " / \\            / \\          \n",
    "1   -          x   +         \n",
    "   / \\            / \\        \n",
    " 100 (+)        100  +       \n",
    "     / \\            / \\      \n",
    "    /   \\          /   \\     \n",
    "   +     /        -     /    \n",
    "  / \\   / \\      / \\   / \\   \n",
    " 3  7  25  5    x   x x   1  \n",
    "\n",
    "  *              +           \n",
    " / \\            / \\          \n",
    "1   -         100  1         \n",
    "   / \\                       \n",
    " 100 (+)                     \n",
    "     / \\                     \n",
    "    /   \\                    \n",
    "   +     /                   \n",
    "  / \\   / \\                  \n",
    " 3  7  25  5                 \n",
    "```\n",
    " \n",
    "**Step 3:**\n",
    "\n",
    "```\n",
    "     *    \n",
    "    / \\   \n",
    "   +   \\  \n",
    "  / \\   \\ \n",
    "100  1   +                     \n",
    "        / \\                     \n",
    "       /   \\                    \n",
    "      +     /                   \n",
    "     / \\   / \\                  \n",
    "    3   7 25  5                 \n",
    "```"
   ]
  },
  {
   "cell_type": "code",
   "execution_count": 370,
   "metadata": {
    "collapsed": false,
    "scrolled": true
   },
   "outputs": [],
   "source": [
    "def gen_child(pa_dna, pb_dna):\n",
    "    tmpred = RedBaron(pa_dna)\n",
    "    child = RedBaron(pb_dna)\n",
    "    \n",
    "    # Choose random operator from parent a\n",
    "    operators = tmpred.find_all('binary_operator')\n",
    "    op = random.choice(operators[1:])  # we don't want the root operator\n",
    "    \n",
    "    # Find and remove all leafs from child\n",
    "    nbs = [float(nb.value) for nb in op.find_all('float')]\n",
    "    \n",
    "    # mark the nodes as empty\n",
    "    for node in child.find_all('float'):\n",
    "        if float(node.value) in nbs:\n",
    "            if node.parent.first is node:\n",
    "                node.parent.first.replace('None')\n",
    "            \n",
    "            elif node.parent.second is node:\n",
    "                node.parent.second.replace('None')\n",
    "\n",
    "    # keep going until nothing is done (which means there is no more empty nodes)\n",
    "    reparented = True\n",
    "    while reparented:\n",
    "        reparented = False\n",
    "\n",
    "        for node in child.find_all('binary_operator'):\n",
    "            if node.first.value == 'None' and node.second.value == 'None':\n",
    "                reparent = 'None'\n",
    "\n",
    "            elif node.first.value == 'None':\n",
    "                reparent = node.second.dumps()\n",
    "\n",
    "            elif node.second.value == 'None':\n",
    "                reparent = node.first.dumps()\n",
    "\n",
    "            else:\n",
    "                continue\n",
    "\n",
    "            if node.parent.parent is None:\n",
    "                node.replace(reparent)\n",
    "                reparented = True\n",
    "\n",
    "            if node.parent.first is node:\n",
    "                node.parent.first.replace(reparent)\n",
    "                reparented = True\n",
    "\n",
    "            elif node.parent.second is node:\n",
    "                node.parent.second.replace(reparent)\n",
    "                reparented = True\n",
    "    \n",
    "    # Combine parents DNA with a mutation: a random operator\n",
    "    notint = True\n",
    "    while notint:\n",
    "        combine = '{0} {2} {1}'.format(\n",
    "            op.dumps(),\n",
    "            child[0].dumps(),\n",
    "            random.choice(['+', '-', '*', '/'])\n",
    "        )\n",
    "        \n",
    "        res = eval(combine)\n",
    "        \n",
    "        if res == int(res):\n",
    "            notint = False\n",
    "\n",
    "    child[0].replace(combine)\n",
    "\n",
    "    return child.dumps()\n"
   ]
  },
  {
   "cell_type": "code",
   "execution_count": 383,
   "metadata": {
    "collapsed": false
   },
   "outputs": [
    {
     "name": "stdout",
     "output_type": "stream",
     "text": [
      "2.0 * 7.0 * 25.0 / 10.0 + 9.0 + 1.0 = 45.0\n"
     ]
    }
   ],
   "source": [
    "child = gen_child(s1[0][0], s1[-1][0])\n",
    "print child, '=', eval(child)"
   ]
  },
  {
   "cell_type": "code",
   "execution_count": null,
   "metadata": {
    "collapsed": true
   },
   "outputs": [],
   "source": []
  },
  {
   "cell_type": "code",
   "execution_count": null,
   "metadata": {
    "collapsed": true
   },
   "outputs": [],
   "source": []
  }
 ],
 "metadata": {
  "kernelspec": {
   "display_name": "Python 2",
   "language": "python",
   "name": "python2"
  },
  "language_info": {
   "codemirror_mode": {
    "name": "ipython",
    "version": 2
   },
   "file_extension": ".py",
   "mimetype": "text/x-python",
   "name": "python",
   "nbconvert_exporter": "python",
   "pygments_lexer": "ipython2",
   "version": "2.7.3"
  }
 },
 "nbformat": 4,
 "nbformat_minor": 0
}
